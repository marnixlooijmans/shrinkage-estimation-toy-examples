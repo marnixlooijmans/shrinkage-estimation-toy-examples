{
 "cells": [
  {
   "cell_type": "markdown",
   "metadata": {},
   "source": [
    "# NERCOME estimator to obtain covariance matrix"
   ]
  },
  {
   "cell_type": "code",
   "execution_count": null,
   "metadata": {},
   "outputs": [],
   "source": [
    "import numpy as np\n",
    "import scipy.optimize\n",
    "import scipy.linalg\n",
    "import matplotlib.pyplot as plt\n",
    "import scipy.stats\n",
    "%matplotlib inline"
   ]
  },
  {
   "cell_type": "markdown",
   "metadata": {},
   "source": [
    "Generate data"
   ]
  },
  {
   "cell_type": "code",
   "execution_count": null,
   "metadata": {},
   "outputs": [],
   "source": [
    "# Parameters\n",
    "Nd = 4 # Number of random variables\n",
    "Ns = 1000 # Number of data realizations\n",
    "\n",
    "# Generate random matrix of size Nd x Ns\n",
    "A = np.random.normal(0, 1, size=(Nd//2, Ns))\n",
    "B = np.random.normal(0, np.sqrt(5), size=(Nd-Nd//2, Ns))\n",
    "X = np.vstack((A, B))\n",
    "# The resulting matrix X = (x_1, x_2, ..., x_Ns) consists of n column vectors,\n",
    "# of which each x_i has length p, the upper half has variance 1 and the lower half has variance 5\n",
    "\n",
    "#print(X)"
   ]
  },
  {
   "cell_type": "markdown",
   "metadata": {},
   "source": [
    "The standard sample covariance estimator is given by\n",
    "$ \\hat{S} = \\frac{1}{N_s-1} X X^T$"
   ]
  },
  {
   "cell_type": "code",
   "execution_count": null,
   "metadata": {},
   "outputs": [],
   "source": [
    "S = 1/(Ns-1)*np.matmul(X, X.T)\n",
    "print(S)"
   ]
  },
  {
   "cell_type": "markdown",
   "metadata": {},
   "source": [
    "Then the covariance matrix $ \\Sigma = \\mathbb{E}(\\hat{S}) $"
   ]
  },
  {
   "cell_type": "code",
   "execution_count": null,
   "metadata": {},
   "outputs": [],
   "source": [
    "S_sum = np.zeros((Nd, Nd))\n",
    "n = 10\n",
    "for _ in range(n):\n",
    "    A = np.random.normal(0, 1, size=(Nd//2, Ns))\n",
    "    B = np.random.normal(0, np.sqrt(5), size=(Nd-Nd//2, Ns))\n",
    "    X = np.vstack((A, B))\n",
    "    S_sum += 1/(Ns-1)*np.matmul(X, X.T)\n",
    "CovM = S_sum / n\n",
    "print(CovM)"
   ]
  },
  {
   "cell_type": "code",
   "execution_count": null,
   "metadata": {},
   "outputs": [],
   "source": []
  },
  {
   "cell_type": "code",
   "execution_count": null,
   "metadata": {},
   "outputs": [],
   "source": []
  }
 ],
 "metadata": {
  "kernelspec": {
   "display_name": "Python 3",
   "language": "python",
   "name": "python3"
  },
  "language_info": {
   "codemirror_mode": {
    "name": "ipython",
    "version": 3
   },
   "file_extension": ".py",
   "mimetype": "text/x-python",
   "name": "python",
   "nbconvert_exporter": "python",
   "pygments_lexer": "ipython3",
   "version": "3.8.3"
  }
 },
 "nbformat": 4,
 "nbformat_minor": 4
}
