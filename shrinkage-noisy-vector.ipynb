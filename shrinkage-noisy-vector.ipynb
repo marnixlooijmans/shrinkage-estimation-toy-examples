{
 "cells": [
  {
   "cell_type": "code",
   "execution_count": 2,
   "metadata": {},
   "outputs": [],
   "source": [
    "import numpy as np\n",
    "import matplotlib.pyplot as plt\n",
    "%matplotlib inline"
   ]
  },
  {
   "cell_type": "code",
   "execution_count": 9,
   "metadata": {},
   "outputs": [],
   "source": [
    "# parameters\n",
    "p = 100 # nr of components of vector\n",
    "n = 100 # nr of realizations\n",
    "psi = 1.1 # mean of vector components\n",
    "sigma = 1.0 # sd of vector components\n",
    "t_val = 1.0 # component value of target vector"
   ]
  },
  {
   "cell_type": "code",
   "execution_count": 12,
   "metadata": {},
   "outputs": [
    {
     "name": "stdout",
     "output_type": "stream",
     "text": [
      "0.49999999999999956\n"
     ]
    }
   ],
   "source": [
    "X = np.random.normal(psi, sigma, size=(p, n))\n",
    "\n",
    "u = np.sum(X, axis=0)/n\n",
    "t = np.full(p, t_val)\n",
    "\n",
    "lmbda = sigma**2 / (n*(t_val-psi)**2+sigma**2)\n",
    "print(lmbda)"
   ]
  },
  {
   "cell_type": "code",
   "execution_count": null,
   "metadata": {},
   "outputs": [],
   "source": []
  }
 ],
 "metadata": {
  "kernelspec": {
   "display_name": "Python 3",
   "language": "python",
   "name": "python3"
  },
  "language_info": {
   "codemirror_mode": {
    "name": "ipython",
    "version": 3
   },
   "file_extension": ".py",
   "mimetype": "text/x-python",
   "name": "python",
   "nbconvert_exporter": "python",
   "pygments_lexer": "ipython3",
   "version": "3.8.3"
  }
 },
 "nbformat": 4,
 "nbformat_minor": 4
}
