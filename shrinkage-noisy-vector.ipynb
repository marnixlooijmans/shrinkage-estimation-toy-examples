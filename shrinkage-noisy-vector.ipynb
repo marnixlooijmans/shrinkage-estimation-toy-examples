{
 "cells": [
  {
   "cell_type": "code",
   "execution_count": 1,
   "metadata": {},
   "outputs": [],
   "source": [
    "import numpy as np\n",
    "import matplotlib.pyplot as plt\n",
    "%matplotlib inline"
   ]
  },
  {
   "cell_type": "code",
   "execution_count": 2,
   "metadata": {},
   "outputs": [],
   "source": [
    "# parameters\n",
    "p = 100 # nr of components of vector\n",
    "n = 100 # nr of realizations\n",
    "psi = 1.1 # mean of vector components\n",
    "sigma = 1.0 # sd of vector components\n",
    "t_val = 1.0 # value of target vector components"
   ]
  },
  {
   "cell_type": "markdown",
   "metadata": {},
   "source": [
    "Analytic calculation of the shrinkage intensity given by\n",
    "$\\langle \\lambda^* \\rangle \\approx \\frac{ \\sum_{i=1}^{p} \\langle Var(u_i) \\rangle }{ \\sum_{i=1}^{p} \\langle (t_i - u_i)^2) \\rangle }$.\n",
    "For fixed values of $\\psi_i$, $\\sigma_i$, $t_i$ given by $\\psi$, $\\sigma$, $t$, we obtain $ \\langle \\lambda^* \\rangle \\approx \\frac{\\sigma^2}{n(t-\\psi)^2+\\sigma^2} $."
   ]
  },
  {
   "cell_type": "code",
   "execution_count": 3,
   "metadata": {},
   "outputs": [
    {
     "name": "stdout",
     "output_type": "stream",
     "text": [
      "0.49999999999999956\n"
     ]
    }
   ],
   "source": [
    "lmbda_ana = sigma**2 / (n*(t_val-psi)**2+sigma**2) # analytic prediction\n",
    "print(lmbda_ana)"
   ]
  },
  {
   "cell_type": "markdown",
   "metadata": {},
   "source": [
    "To find a measured value of the shrinkage intensity, we run 100 simulations."
   ]
  },
  {
   "cell_type": "code",
   "execution_count": 4,
   "metadata": {},
   "outputs": [
    {
     "name": "stdout",
     "output_type": "stream",
     "text": [
      "Measured value for lambda: 0.5096839256059772\n",
      "Variance for lambda: 0.0038937842199601625\n"
     ]
    }
   ],
   "source": [
    "lmbdas_est = []\n",
    "for _ in range(100):\n",
    "    X = np.random.normal(psi, sigma, size=(p, n))\n",
    "    \n",
    "    u = np.sum(X, axis=1)/n\n",
    "    u_M = np.tile(u, (n, 1)).T # Repeat u array as columns in a p x n matrix\n",
    "    # Variance using jackknife resampling\n",
    "    u_var = 1/(n*(n-1)) * np.sum((X - u_M)**2, axis=1) # 1D array of variance of components of u vector\n",
    "    \n",
    "    # Target vector t\n",
    "    t = np.full(p, t_val)\n",
    "    \n",
    "    lmbda_est = np.sum(u_var) / np.sum((t-u)**2)\n",
    "    lmbdas_est.append(lmbda_est)\n",
    "\n",
    "lmbda_est_avg = np.average(lmbdas_est)\n",
    "print(f\"Measured value for lambda: {lmbda_est_avg}\")\n",
    "lmbda_est_std = np.std(lmbdas_est)\n",
    "print(f\"Variance for lambda: {lmbda_est_std**2}\") # The paper by Pope & Szapudi call this the standard deviation"
   ]
  },
  {
   "cell_type": "code",
   "execution_count": null,
   "metadata": {},
   "outputs": [],
   "source": []
  }
 ],
 "metadata": {
  "kernelspec": {
   "display_name": "Python 3",
   "language": "python",
   "name": "python3"
  },
  "language_info": {
   "codemirror_mode": {
    "name": "ipython",
    "version": 3
   },
   "file_extension": ".py",
   "mimetype": "text/x-python",
   "name": "python",
   "nbconvert_exporter": "python",
   "pygments_lexer": "ipython3",
   "version": "3.8.3"
  }
 },
 "nbformat": 4,
 "nbformat_minor": 4
}
