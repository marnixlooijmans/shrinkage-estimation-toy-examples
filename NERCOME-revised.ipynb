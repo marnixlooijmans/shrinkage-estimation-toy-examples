{
 "cells": [
  {
   "cell_type": "code",
   "execution_count": 25,
   "metadata": {},
   "outputs": [],
   "source": [
    "import numpy as np\n",
    "import itertools as it\n",
    "from datetime import datetime\n",
    "import matplotlib.pyplot as plt\n",
    "%matplotlib inline"
   ]
  },
  {
   "cell_type": "code",
   "execution_count": 26,
   "metadata": {},
   "outputs": [],
   "source": [
    "def Q_func_old(s, X):\n",
    "    Nd, Ns = X.shape\n",
    "    #assert s >= 2 and s <= (Ns-2) and math.floor(s) == s\n",
    "    assert s >= 2 and s <= (Ns-2) and np.floor(s) == s\n",
    "    col_combos = list(it.combinations(range(Ns), s)) # Tuples of possible combinations of s out of Ns column indices\n",
    "\n",
    "    Z_sum = np.zeros((Nd, Nd))\n",
    "    S2_sum = np.zeros((Nd, Nd))\n",
    "\n",
    "    for col_combo in col_combos:\n",
    "        X1 = X[:, col_combo]\n",
    "        X2 = X[:, np.delete(range(Ns), col_combo)]\n",
    "        \n",
    "        S1 = 1/(s-1)*np.matmul(X1, X1.T)\n",
    "        S2 = 1/(Ns-s-1)*np.matmul(X2, X2.T)\n",
    "        S2_sum += S2\n",
    "        \n",
    "        # Diagonalize S_i = U_i * D_i * U_i^T\n",
    "        evals1, U1 = np.linalg.eigh(S1)\n",
    "        D1 = np.diag(evals1)\n",
    "        #evals2, U2 = np.linalg.eig(S2)\n",
    "        #D2 = np.diag(evals2)\n",
    "        \n",
    "        # Verify that the matrix diagonalization is correct (up to absolute error of 1e^-10)\n",
    "        S1_trial = np.matmul(np.matmul(U1, D1), U1.T)\n",
    "        #S2_trial = np.matmul(np.matmul(U2, D2), U2.T)\n",
    "        assert np.allclose(S1, S1_trial, 0, 1e-10)\n",
    "        #assert np.allclose(S2, S2_trial, 0, 1e-10)\n",
    "        \n",
    "        # Compute estimator Z = U_1 * diag(U_1^T * S_2 * U_1) * U_1^T\n",
    "        Z = np.matmul(np.matmul(U1, np.diag(np.diag(np.matmul(np.matmul(U1.T, S2), U1)))), U1.T)\n",
    "        Z_sum += Z\n",
    "    \n",
    "    Z_avg = Z_sum / len(col_combos)\n",
    "    S2_avg = S2_sum / len(col_combos)\n",
    "    M = Z_avg - S2_avg\n",
    "    Q_val = np.trace(np.matmul(M, M.T)) # Frobenius matrix norm\n",
    "    \n",
    "    return Q_val, Z_avg"
   ]
  },
  {
   "cell_type": "code",
   "execution_count": 27,
   "metadata": {},
   "outputs": [],
   "source": [
    "def NERCOME_old(X):\n",
    "    Nd, Ns = X.shape\n",
    "    \n",
    "    # NERCOME requires the data vectors to be mean subtracted\n",
    "    x_mean = np.sum(X, axis=1)/Ns # Find mean of each row\n",
    "    x_mean_M = np.tile(x_mean, (Ns, 1)).T # Repeat mean values as columns in a p x n matrix\n",
    "    Y = X - x_mean_M\n",
    "    \n",
    "    s = np.arange(Ns-3)+2\n",
    "    Q = []\n",
    "    for i in s:\n",
    "        Q.append(Q_func_old(i, Y)[0])\n",
    "    \n",
    "    s_min = s[np.array(Q).argmin()]\n",
    "    \n",
    "    Z = Q_func_old(s_min, Y)[1]\n",
    "    S = 1/(Ns-1)*np.matmul(Y, Y.T)\n",
    "    \n",
    "    return Z, S, s_min"
   ]
  },
  {
   "cell_type": "code",
   "execution_count": 45,
   "metadata": {},
   "outputs": [],
   "source": [
    "def Q_func_revised(s, X):\n",
    "    Nd, Ns = X.shape\n",
    "    assert s >= 2 and s <= (Ns-2) and np.floor(s) == s\n",
    "    \n",
    "    nr_col_combos = np.math.factorial(Ns) // (np.math.factorial(s) * np.math.factorial(Ns-s))\n",
    "    Nav_max = 1000 # SHOULD THIS DEPEND ON VALUE FOR N_d??\n",
    "    Nav = np.amin([nr_col_combos, Nav_max])\n",
    "    \n",
    "    if Nav < nr_col_combos:\n",
    "        M = np.zeros((Nav,s))\n",
    "        for i in range(Nav):\n",
    "            M[i, :] = np.sort(np.random.choice(Ns, s, replace=False))\n",
    "        col_combos = np.unique(M.astype(int), axis=0)\n",
    "    else:\n",
    "        col_combos = np.array(list(it.combinations(range(Ns), s)))\n",
    "    \n",
    "    Z_sum = np.zeros((Nd, Nd))\n",
    "    S2_sum = np.zeros((Nd, Nd))\n",
    "    \n",
    "    for col_combo in col_combos:\n",
    "        X1 = X[:, col_combo]\n",
    "        X2 = X[:, np.delete(range(Ns), col_combo)]\n",
    "        \n",
    "        S1 = 1/(s-1)*np.matmul(X1, X1.T)\n",
    "        S2 = 1/(Ns-s-1)*np.matmul(X2, X2.T)\n",
    "        S2_sum += S2\n",
    "        \n",
    "        # Diagonalize S_i = U_i * D_i * U_i^T\n",
    "        evals1, U1 = np.linalg.eigh(S1)\n",
    "        D1 = np.diag(evals1)\n",
    "        \n",
    "        # Verify that the matrix diagonalization is correct (up to absolute error of 1e^-10)\n",
    "        S1_trial = np.matmul(np.matmul(U1, D1), U1.T)\n",
    "        assert np.allclose(S1, S1_trial, 0, 1e-10)\n",
    "        \n",
    "        # Compute estimator Z = U_1 * diag(U_1^T * S_2 * U_1) * U_1^T\n",
    "        Z = np.matmul(np.matmul(U1, np.diag(np.diag(np.matmul(np.matmul(U1.T, S2), U1)))), U1.T)\n",
    "        Z_sum += Z\n",
    "    \n",
    "    Z_avg = Z_sum / Nav\n",
    "    S2_avg = S2_sum / Nav\n",
    "    M = Z_avg - S2_avg\n",
    "    Q_val = np.trace(np.matmul(M, M.T)) # Frobenius matrix norm\n",
    "    \n",
    "    return Q_val, Z_avg"
   ]
  },
  {
   "cell_type": "code",
   "execution_count": 46,
   "metadata": {},
   "outputs": [],
   "source": [
    "def NERCOME_revised(X):\n",
    "    Nd, Ns = X.shape\n",
    "    \n",
    "    # NERCOME requires the data vectors to be mean subtracted\n",
    "    x_mean = np.sum(X, axis=1)/Ns # Find mean of each row\n",
    "    x_mean_M = np.tile(x_mean, (Ns, 1)).T # Repeat mean values as columns in a Nd x Ns matrix\n",
    "    Y = X - x_mean_M\n",
    "    \n",
    "    s = np.unique(np.rint(np.array([2*np.sqrt(Ns), 0.2*Ns, 0.4*Ns, 0.6*Ns, 0.8*Ns, Ns-2.5*np.sqrt(Ns), Ns-1.5*np.sqrt(Ns)])).astype(int))\n",
    "    Q = []\n",
    "    for i in s:\n",
    "        Q.append(Q_func_revised(i, Y)[0])\n",
    "    \n",
    "    s_min = s[np.array(Q).argmin()]\n",
    "    \n",
    "    Z = Q_func_revised(s_min, Y)[1]\n",
    "    S = 1/(Ns-1)*np.matmul(Y, Y.T)\n",
    "    \n",
    "    return Z, S, s_min"
   ]
  },
  {
   "cell_type": "code",
   "execution_count": 51,
   "metadata": {},
   "outputs": [
    {
     "name": "stdout",
     "output_type": "stream",
     "text": [
      "640\n"
     ]
    }
   ],
   "source": [
    "p = 30\n",
    "n = 1600\n",
    "mean = 0\n",
    "sigmaA = 1\n",
    "sigmaB = np.sqrt(5)\n",
    "\n",
    "A = np.random.normal(mean, sigmaA, size=(p//2, n))\n",
    "B = np.random.normal(mean, sigmaB, size=(p-p//2, n))\n",
    "X = np.vstack((A, B))\n",
    "\n",
    "C_true_A = np.full(p//2, sigmaA**2)\n",
    "C_true_B = np.full(p-p//2, sigmaB**2)\n",
    "C_true = np.diag(np.concatenate((C_true_A, C_true_B)))\n",
    "\n",
    "C_nercome_revised, S_revised, s_min_revised = NERCOME_revised(X)\n",
    "#C_nercome_old, S_old, s_min_old = NERCOME_old(X)\n",
    "\n",
    "#print(s_min_old)\n",
    "print(s_min_revised)"
   ]
  },
  {
   "cell_type": "code",
   "execution_count": 52,
   "metadata": {},
   "outputs": [
    {
     "name": "stdout",
     "output_type": "stream",
     "text": [
      "MSE for revised NERCOME: 1.506384692600722\n"
     ]
    },
    {
     "data": {
      "text/plain": [
       "Text(0, 0.5, 'Eigenvalues')"
      ]
     },
     "execution_count": 52,
     "metadata": {},
     "output_type": "execute_result"
    },
    {
     "data": {
      "image/png": "[encoded data removed]",
      "text/plain": [
       "<Figure size 432x288 with 1 Axes>"
      ]
     },
     "metadata": {
      "needs_background": "light"
     },
     "output_type": "display_data"
    }
   ],
   "source": [
    "MSE_revised = np.trace((C_nercome_revised-C_true)@(C_nercome_revised-C_true).T)\n",
    "#MSE_old = np.trace((C_nercome_old-C_true)@(C_nercome_old-C_true).T)\n",
    "\n",
    "#print(f\"MSE for old NERCOME: {MSE_old}\")\n",
    "print(f\"MSE for revised NERCOME: {MSE_revised}\")\n",
    "\n",
    "#evals_old = np.linalg.eigvalsh(C_nercome_old)\n",
    "evals_revised = np.linalg.eigvalsh(C_nercome_revised)\n",
    "evals_true = np.linalg.eigvalsh(C_true)\n",
    "\n",
    "#plt.plot(evals_old, label=\"old NERCOME\")\n",
    "plt.plot(evals_revised, label=\"new NERCOME\")\n",
    "plt.plot(evals_true, \"k--\", label=\"Truth\")\n",
    "plt.legend()\n",
    "plt.xlabel(\"Eigenmodes\")\n",
    "plt.ylabel(\"Eigenvalues\")"
   ]
  },
  {
   "cell_type": "code",
   "execution_count": null,
   "metadata": {},
   "outputs": [],
   "source": []
  }
 ],
 "metadata": {
  "kernelspec": {
   "display_name": "Python 3",
   "language": "python",
   "name": "python3"
  },
  "language_info": {
   "codemirror_mode": {
    "name": "ipython",
    "version": 3
   },
   "file_extension": ".py",
   "mimetype": "text/x-python",
   "name": "python",
   "nbconvert_exporter": "python",
   "pygments_lexer": "ipython3",
   "version": "3.8.3"
  }
 },
 "nbformat": 4,
 "nbformat_minor": 4
}
