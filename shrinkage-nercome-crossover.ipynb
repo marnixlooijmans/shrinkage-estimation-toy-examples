{
 "cells": [
  {
   "cell_type": "code",
   "execution_count": 7,
   "metadata": {},
   "outputs": [],
   "source": [
    "import numpy as np\n",
    "import itertools as it\n",
    "import matplotlib.pyplot as plt\n",
    "%matplotlib inline"
   ]
  },
  {
   "cell_type": "code",
   "execution_count": 8,
   "metadata": {},
   "outputs": [],
   "source": [
    "def shrinkage_cov_matrix(X, T):\n",
    "    p, n = X.shape # Get shape of matrix\n",
    "    \n",
    "    x_mean = np.sum(X, axis=1)/n # Find mean of each row\n",
    "    x_mean_M = np.tile(x_mean, (n, 1)).T # Repeat mean values as columns in a p x n matrix\n",
    "    Y = X - x_mean_M\n",
    "    \n",
    "    W = []\n",
    "    # Generate W array (which is 3D) of size (n, p, p), order of indices (k, i, j)\n",
    "    for k in range(n):\n",
    "        w = Y[:,k]\n",
    "        W.append(np.outer(w, w))\n",
    "    W_mean = np.sum(W, axis=0)/n\n",
    "    \n",
    "    # Emperically estimated covariance matrix\n",
    "    S = n / (n-1) * W_mean\n",
    "    \n",
    "    W_mean_rep = np.tile(W_mean, (n, 1, 1))\n",
    "    V = W - W_mean_rep\n",
    "    # Compute variance of elements of the covariance matrix\n",
    "    Var = n / (n-1)**3 * np.sum(V**2, axis=0)\n",
    "    \n",
    "    # Compute estimated shrinkage intensity parameter lambda\n",
    "    lmbda_est = np.sum(Var) / np.sum((T-S)**2)\n",
    "    \n",
    "    # Compute shrinkage covariance matrix\n",
    "    C_shrinkage = lmbda_est*T + (1-lmbda_est)*S\n",
    "    \n",
    "    return C_shrinkage, S, lmbda_est"
   ]
  },
  {
   "cell_type": "code",
   "execution_count": 9,
   "metadata": {},
   "outputs": [],
   "source": [
    "def Q_func(s, X):\n",
    "    Nd, Ns = X.shape\n",
    "    #assert s >= 2 and s <= (Ns-2) and math.floor(s) == s\n",
    "    assert s >= 2 and s <= (Ns-2) and np.floor(s) == s\n",
    "    col_combos = list(it.combinations(range(Ns), s)) # Tuples of possible combinations of s out of Ns column indices\n",
    "\n",
    "    Z_sum = np.zeros((Nd, Nd))\n",
    "    S2_sum = np.zeros((Nd, Nd))\n",
    "\n",
    "    for col_combo in col_combos:\n",
    "        X1 = X[:, col_combo]\n",
    "        X2 = X[:, np.delete(range(Ns), col_combo)]\n",
    "        \n",
    "        S1 = 1/(s-1)*np.matmul(X1, X1.T)\n",
    "        S2 = 1/(Ns-s-1)*np.matmul(X2, X2.T)\n",
    "        S2_sum += S2\n",
    "        \n",
    "        # Diagonalize S_i = U_i * D_i * U_i^T\n",
    "        evals1, U1 = np.linalg.eigh(S1)\n",
    "        D1 = np.diag(evals1)\n",
    "        #evals2, U2 = np.linalg.eig(S2)\n",
    "        #D2 = np.diag(evals2)\n",
    "        \n",
    "        # Verify that the matrix diagonalization is correct (up to absolute error of 1e^-10)\n",
    "        S1_trial = np.matmul(np.matmul(U1, D1), U1.T)\n",
    "        #S2_trial = np.matmul(np.matmul(U2, D2), U2.T)\n",
    "        assert np.allclose(S1, S1_trial, 0, 1e-10)\n",
    "        #assert np.allclose(S2, S2_trial, 0, 1e-10)\n",
    "        \n",
    "        # Compute estimator Z = U_1 * diag(U_1^T * S_2 * U_1) * U_1^T\n",
    "        Z = np.matmul(np.matmul(U1, np.diag(np.diag(np.matmul(np.matmul(U1.T, S2), U1)))), U1.T)\n",
    "        Z_sum += Z\n",
    "    \n",
    "    Z_avg = Z_sum / len(col_combos)\n",
    "    S2_avg = S2_sum / len(col_combos)\n",
    "    M = Z_avg - S2_avg\n",
    "    Q_val = np.trace(np.matmul(M, M.T)) # Frobenius matrix norm\n",
    "    \n",
    "    return Q_val, Z_avg"
   ]
  },
  {
   "cell_type": "code",
   "execution_count": 10,
   "metadata": {},
   "outputs": [],
   "source": [
    "def NERCOME(X):\n",
    "    Nd, Ns = X.shape\n",
    "    \n",
    "    # NERCOME requires the data vectors to be mean subtracted\n",
    "    x_mean = np.sum(X, axis=1)/n # Find mean of each row\n",
    "    x_mean_M = np.tile(x_mean, (n, 1)).T # Repeat mean values as columns in a p x n matrix\n",
    "    Y = X - x_mean_M\n",
    "    \n",
    "    s = np.arange(Ns-3)+2\n",
    "    Q = []\n",
    "    for i in s:\n",
    "        Q.append(Q_func(i, Y)[0])\n",
    "    \n",
    "    s_min = s[np.array(Q).argmin()]\n",
    "    \n",
    "    Z = Q_func(s_min, Y)[1]\n",
    "    S = 1/(Ns-1)*np.matmul(Y, Y.T)\n",
    "    \n",
    "    return Z, S, s_min"
   ]
  },
  {
   "cell_type": "code",
   "execution_count": 15,
   "metadata": {},
   "outputs": [
    {
     "name": "stdout",
     "output_type": "stream",
     "text": [
      "MSE for MC: 26.221352876663904\n",
      "MSE for MC+S: 0.79583047699819\n",
      "MSE for NERCOME: 0.3620447340314529\n"
     ]
    }
   ],
   "source": [
    "p = 18\n",
    "n = 20\n",
    "mean = 0\n",
    "sigmaA = 1.1\n",
    "sigmaB = 1.1\n",
    "\n",
    "A = np.random.normal(mean, sigmaA, size=(p//2, n))\n",
    "B = np.random.normal(mean, sigmaB, size=(p-p//2, n))\n",
    "X = np.vstack((A, B))\n",
    "\n",
    "T = np.identity(p) # Target matrix\n",
    "C_true = sigmaA**2 * np.identity(p) # True covariance CHANGE THIS!!\n",
    "\n",
    "C_shrinkage, S1, lmbda_est = shrinkage_cov_matrix(X, T)\n",
    "C_nercome, S2, s_min = NERCOME(X)\n",
    "\n",
    "# We require the empirically estimated covariance matrices to be (almost) identical\n",
    "assert np.allclose(S1, S2, 0, 1e-10)\n",
    "\n",
    "MSE_MC = np.trace((S1-C_true)@(S1-C_true).T)\n",
    "MSE_MCS = np.trace((C_shrinkage-C_true)@(C_shrinkage-C_true).T)\n",
    "MSE_NERCOME = np.trace((C_nercome-C_true)@(C_nercome-C_true).T)\n",
    "#MSE_TARGET = np.trace((T-C_true)@(T-C_true).T)\n",
    "\n",
    "print(f\"MSE for MC: {MSE_MC}\")\n",
    "print(f\"MSE for MC+S: {MSE_MCS}\")\n",
    "print(f\"MSE for NERCOME: {MSE_NERCOME}\")"
   ]
  },
  {
   "cell_type": "code",
   "execution_count": 20,
   "metadata": {},
   "outputs": [
    {
     "data": {
      "text/plain": [
       "Text(0, 0.5, 'Eigenvalues')"
      ]
     },
     "execution_count": 20,
     "metadata": {},
     "output_type": "execute_result"
    },
    {
     "data": {
      "image/png": "[encoded data removed]",
      "text/plain": [
       "<Figure size 432x288 with 1 Axes>"
      ]
     },
     "metadata": {
      "needs_background": "light"
     },
     "output_type": "display_data"
    }
   ],
   "source": [
    "evals_MC = np.linalg.eigvalsh(S1)\n",
    "evals_MCS = np.linalg.eigvalsh(C_shrinkage)\n",
    "evals_NERCOME = np.linalg.eigvalsh(C_nercome)\n",
    "evals_true = np.linalg.eigvalsh(C_true)\n",
    "\n",
    "plt.plot(evals_MC, label=\"MC\")\n",
    "plt.plot(evals_MCS, label=\"MC+S\")\n",
    "plt.plot(evals_NERCOME, label=\"NERCOME\")\n",
    "plt.plot(evals_true, \"k--\", label=\"Truth\")\n",
    "plt.legend()\n",
    "plt.title(\"Comparison of different covariance matrices\")\n",
    "plt.xlabel(\"Eigenmodes\")\n",
    "plt.ylabel(\"Eigenvalues\")"
   ]
  },
  {
   "cell_type": "code",
   "execution_count": null,
   "metadata": {},
   "outputs": [],
   "source": []
  }
 ],
 "metadata": {
  "kernelspec": {
   "display_name": "Python 3",
   "language": "python",
   "name": "python3"
  },
  "language_info": {
   "codemirror_mode": {
    "name": "ipython",
    "version": 3
   },
   "file_extension": ".py",
   "mimetype": "text/x-python",
   "name": "python",
   "nbconvert_exporter": "python",
   "pygments_lexer": "ipython3",
   "version": "3.8.3"
  }
 },
 "nbformat": 4,
 "nbformat_minor": 4
}
