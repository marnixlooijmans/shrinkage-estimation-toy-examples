{
 "cells": [
  {
   "cell_type": "code",
   "execution_count": 85,
   "metadata": {},
   "outputs": [],
   "source": [
    "import numpy as np\n",
    "import matplotlib.pyplot as plt\n",
    "%matplotlib inline"
   ]
  },
  {
   "cell_type": "code",
   "execution_count": 106,
   "metadata": {},
   "outputs": [],
   "source": [
    "# parameters\n",
    "p = 4 # nr of random variables\n",
    "n = 1000 # nr of realizations\n",
    "mean = 0\n",
    "sigma = 1.1"
   ]
  },
  {
   "cell_type": "markdown",
   "metadata": {},
   "source": [
    "Covariance matrix is given by $ \\textbf{C} = \\hat{\\lambda}^* \\textbf{T} + (1-\\hat{\\lambda}^*)\\textbf{S} $, where $\\hat{\\lambda}^*$ is the estimated optimal shrinkage intensity, $\\textbf{T}$ is the target matrix which we take to be the identity, and $\\textbf{S}$ is the empirically estimated covariance matrix.\n",
    "\n",
    "We run a 100 simulations to find the shrinkage intensity."
   ]
  },
  {
   "cell_type": "code",
   "execution_count": 107,
   "metadata": {},
   "outputs": [],
   "source": [
    "T = np.identity(p) # Target matrix\n",
    "C_true = sigma**2 * np.identity(p) # True covariance"
   ]
  },
  {
   "cell_type": "code",
   "execution_count": 108,
   "metadata": {},
   "outputs": [
    {
     "name": "stdout",
     "output_type": "stream",
     "text": [
      "Optimal value for shrinkage intensity: 0.1502633923559731\n",
      "Standard deviation: 0.03102165296773172\n",
      "[[ 1.20784247e+00 -3.96797596e-04  1.01993630e-03 -2.63181883e-03]\n",
      " [-3.96797596e-04  1.21292154e+00 -3.62352144e-03  1.98208851e-03]\n",
      " [ 1.01993630e-03 -3.62352144e-03  1.19726399e+00 -2.45818877e-03]\n",
      " [-2.63181883e-03  1.98208851e-03 -2.45818877e-03  1.21335746e+00]]\n"
     ]
    }
   ],
   "source": [
    "lmbdas_est = []\n",
    "S_sum = np.zeros((p, p))\n",
    "m = 100 # nr of realizations\n",
    "for _ in range(m):\n",
    "    X = np.random.normal(mean, sigma, size=(p, n))\n",
    "    \n",
    "    x_mean = np.sum(X, axis=1)/n # Find mean of each row\n",
    "    x_mean_M = np.tile(x_mean, (n, 1)).T # Repeat mean values as columns in a p x n matrix\n",
    "    Y = X - x_mean_M\n",
    "    \n",
    "    W = []\n",
    "    # Generate W array (which is 3D) of size (n, p, p), order of indices (k, i, j)\n",
    "    for k in range(n):\n",
    "        w = Y[:,k]\n",
    "        W.append(np.outer(w, w))\n",
    "    W_mean = np.sum(W, axis=0)/n\n",
    "    \n",
    "    # Emperically estimated covariance matrix\n",
    "    S = n / (n-1) * W_mean\n",
    "    S_sum += S\n",
    "    \n",
    "    W_mean_rep = np.tile(W_mean, (n, 1, 1))\n",
    "    V = W - W_mean_rep\n",
    "    Var = n / (n-1)**3 * np.sum(V**2, axis=0)\n",
    "    \n",
    "    lmbda_est = np.sum(Var) / np.sum((T-S)**2)\n",
    "    lmbdas_est.append(lmbda_est)\n",
    "\n",
    "\n",
    "S_avg = S_sum / m\n",
    "\n",
    "lmbda_est = np.average(lmbdas_est)\n",
    "print(f\"Optimal value for shrinkage intensity: {lmbda_est}\")\n",
    "lmbda_est_se = np.std(lmbdas_est) #/ np.sqrt(len(lmbdas_est))\n",
    "print(f\"Standard deviation: {lmbda_est_se}\")\n",
    "\n",
    "print(S_avg)"
   ]
  },
  {
   "cell_type": "code",
   "execution_count": 109,
   "metadata": {},
   "outputs": [
    {
     "name": "stdout",
     "output_type": "stream",
     "text": [
      "[[ 1.17661136e+00 -3.37173443e-04  8.66677212e-04 -2.23635281e-03]\n",
      " [-3.37173443e-04  1.18092722e+00 -3.07903881e-03  1.68425317e-03]\n",
      " [ 8.66677212e-04 -3.07903881e-03  1.16762243e+00 -2.08881299e-03]\n",
      " [-2.23635281e-03  1.68425317e-03 -2.08881299e-03  1.18129764e+00]]\n",
      "0.00024911972083760544\n"
     ]
    }
   ],
   "source": [
    "C_shrinkage = lmbda_est*T + (1-lmbda_est)*S_avg\n",
    "\n",
    "print(C_shrinkage)\n",
    "\n",
    "MSE_MC = np.trace((S_avg - C_true)@(S_avg - C_true).T)\n",
    "print(MSE_MC)"
   ]
  },
  {
   "cell_type": "code",
   "execution_count": null,
   "metadata": {},
   "outputs": [],
   "source": []
  }
 ],
 "metadata": {
  "kernelspec": {
   "display_name": "Python 3",
   "language": "python",
   "name": "python3"
  },
  "language_info": {
   "codemirror_mode": {
    "name": "ipython",
    "version": 3
   },
   "file_extension": ".py",
   "mimetype": "text/x-python",
   "name": "python",
   "nbconvert_exporter": "python",
   "pygments_lexer": "ipython3",
   "version": "3.8.3"
  }
 },
 "nbformat": 4,
 "nbformat_minor": 4
}
