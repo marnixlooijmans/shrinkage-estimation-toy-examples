{
 "cells": [
  {
   "cell_type": "code",
   "execution_count": 33,
   "metadata": {},
   "outputs": [],
   "source": [
    "import numpy as np\n",
    "import matplotlib.pyplot as plt\n",
    "%matplotlib inline"
   ]
  },
  {
   "cell_type": "markdown",
   "metadata": {},
   "source": [
    "Define a new function which takes a data matrix of size $p \\times n$ where $p$ is the number of random variables and $n$ is the number of data realizations and which takes a fixed target matrix as input parameters. The function returns the covariance matrix calculated using shrinkage estimation, the empirically estimated covariance matrix and the estimated shrinkage intensity.\n",
    "\n",
    "The covariance matrix is given by $ \\textbf{C} = \\hat{\\lambda}^* \\textbf{T} + (1-\\hat{\\lambda}^*)\\textbf{S} $, where $\\hat{\\lambda}^*$ is the estimated optimal shrinkage intensity, $\\textbf{T}$ is the target matrix, and $\\textbf{S}$ is the empirically estimated covariance matrix."
   ]
  },
  {
   "cell_type": "code",
   "execution_count": 34,
   "metadata": {},
   "outputs": [],
   "source": [
    "def shrinkage_cov_matrix(X, T):\n",
    "    p, n = X.shape # Get shape of matrix\n",
    "    \n",
    "    x_mean = np.sum(X, axis=1)/n # Find mean of each row\n",
    "    x_mean_M = np.tile(x_mean, (n, 1)).T # Repeat mean values as columns in a p x n matrix\n",
    "    Y = X - x_mean_M\n",
    "    \n",
    "    W = []\n",
    "    # Generate W array (which is 3D) of size (n, p, p), order of indices (k, i, j)\n",
    "    for k in range(n):\n",
    "        w = Y[:,k]\n",
    "        W.append(np.outer(w, w))\n",
    "    W_mean = np.sum(W, axis=0)/n\n",
    "    \n",
    "    # Emperically estimated covariance matrix\n",
    "    S = n / (n-1) * W_mean\n",
    "    \n",
    "    W_mean_rep = np.tile(W_mean, (n, 1, 1))\n",
    "    V = W - W_mean_rep\n",
    "    # Compute variance of elements of the covariance matrix\n",
    "    Var = n / (n-1)**3 * np.sum(V**2, axis=0)\n",
    "    \n",
    "    # Compute estimated shrinkage intensity parameter lambda\n",
    "    lmbda_est = np.sum(Var) / np.sum((T-S)**2)\n",
    "    \n",
    "    # Compute shrinkage covariance matrix\n",
    "    C_shrinkage = lmbda_est*T + (1-lmbda_est)*S\n",
    "    \n",
    "    return C_shrinkage, S, lmbda_est"
   ]
  },
  {
   "cell_type": "markdown",
   "metadata": {},
   "source": [
    "In order to plot graphs of the mean squared error (MSE) against the number of data realizations, we create a new function which calculates the MSE as a function of $n$ for our toy example. We run a 100 simulations to find the average values."
   ]
  },
  {
   "cell_type": "code",
   "execution_count": 38,
   "metadata": {},
   "outputs": [],
   "source": [
    "def get_lmbda_MSE(n):\n",
    "    # parameters\n",
    "    p = 18 # nr of random variables\n",
    "    mean = 0\n",
    "    sigma = 1.1\n",
    "\n",
    "    T = np.identity(p) # Target matrix\n",
    "    C_true = sigma**2 * np.identity(p) # True covariance\n",
    "    \n",
    "    lmbdas_est = []\n",
    "    MSE_MC_sum = 0\n",
    "    MSE_MCS_sum = 0\n",
    "    \n",
    "    m = 100 # nr of realizations\n",
    "    for _ in range(m):\n",
    "        X = np.random.normal(mean, sigma, size=(p, n))\n",
    "        \n",
    "        C_shrinkage, S, lmbda_est = shrinkage_cov_matrix(X, T)\n",
    "        \n",
    "        MSE_MC = np.trace((S-C_true)@(S-C_true).T)\n",
    "        MSE_MCS = np.trace((C_shrinkage-C_true)@(C_shrinkage-C_true).T)\n",
    "        \n",
    "        lmbdas_est.append(lmbda_est)\n",
    "        MSE_MC_sum += MSE_MC\n",
    "        MSE_MCS_sum += MSE_MCS\n",
    "\n",
    "    lmbda_est = np.average(lmbdas_est)\n",
    "    lmbda_est_se = np.std(lmbdas_est)\n",
    "    MSE_MC = MSE_MC_sum / m\n",
    "    MSE_MCS = MSE_MCS_sum / m\n",
    "    MSE_T = np.trace((T-C_true)@(T-C_true).T)\n",
    "    \n",
    "    return lmbda_est, lmbda_est_se, MSE_MC, MSE_MCS, MSE_T"
   ]
  },
  {
   "cell_type": "code",
   "execution_count": 39,
   "metadata": {},
   "outputs": [
    {
     "name": "stdout",
     "output_type": "stream",
     "text": [
      "Optimal value for shrinkage intensity: 0.6153959297992213\n",
      "Standard deviation: 0.05655166973150145\n",
      "MSE for MC: 1.2563435500759943\n",
      "MSE for MC+S: 0.4949196379244755\n",
      "MSE for MC+S: 0.4949196379244755\n",
      "MSE for Target: 0.7938000000000013\n"
     ]
    }
   ],
   "source": [
    "lmbda_est, lmbda_est_se, MSE_MC, MSE_MCS, MSE_T = get_lmbda_MSE(400)\n",
    "print(f\"Optimal value for shrinkage intensity: {lmbda_est}\")\n",
    "print(f\"Standard deviation: {lmbda_est_se}\")\n",
    "print(f\"MSE for MC: {MSE_MC}\")\n",
    "print(f\"MSE for MC+S: {MSE_MCS}\")\n",
    "print(f\"MSE for Target: {MSE_T}\")"
   ]
  },
  {
   "cell_type": "code",
   "execution_count": 55,
   "metadata": {},
   "outputs": [
    {
     "name": "stdout",
     "output_type": "stream",
     "text": [
      "[   10    11    13    15    17    20    23    26    30    35    40    47\n",
      "    54    62    71    82    95   109   126   145   167   193   222   255\n",
      "   294   339   390   449   517   596   686   790   910  1048  1206  1389\n",
      "  1599  1842  2120  2442  2811  3237  3727  4291  4941  5689  6551  7543\n",
      "  8685 10000]\n"
     ]
    }
   ],
   "source": [
    "n = np.logspace(1, 4).astype(int)\n",
    "print(n)"
   ]
  },
  {
   "cell_type": "code",
   "execution_count": 57,
   "metadata": {},
   "outputs": [
    {
     "data": {
      "text/plain": [
       "Text(0, 0.5, 'MSE')"
      ]
     },
     "execution_count": 57,
     "metadata": {},
     "output_type": "execute_result"
    },
    {
     "data": {
      "image/png": "[encoded data removed]",
      "text/plain": [
       "<Figure size 432x288 with 1 Axes>"
      ]
     },
     "metadata": {
      "needs_background": "light"
     },
     "output_type": "display_data"
    }
   ],
   "source": [
    "MSE_MC = []\n",
    "MSE_MCS = []\n",
    "MSE_T = []\n",
    "\n",
    "for i in n:\n",
    "    _, _, MSE_MC_val, MSE_MCS_val, MSE_T_val = get_lmbda_MSE(i)\n",
    "    MSE_MC.append(MSE_MC_val)\n",
    "    MSE_MCS.append(MSE_MCS_val)\n",
    "    MSE_T.append(MSE_T_val)\n",
    "\n",
    "plt.loglog(n, MSE_MC, label=\"MC\")\n",
    "plt.loglog(n, MSE_MCS, label=\"MC+S\")\n",
    "plt.loglog(n, MSE_T, label=\"Target\")\n",
    "plt.legend()\n",
    "plt.xlabel(\"n\")\n",
    "plt.ylabel(\"MSE\")"
   ]
  },
  {
   "cell_type": "code",
   "execution_count": null,
   "metadata": {},
   "outputs": [],
   "source": []
  }
 ],
 "metadata": {
  "kernelspec": {
   "display_name": "Python 3",
   "language": "python",
   "name": "python3"
  },
  "language_info": {
   "codemirror_mode": {
    "name": "ipython",
    "version": 3
   },
   "file_extension": ".py",
   "mimetype": "text/x-python",
   "name": "python",
   "nbconvert_exporter": "python",
   "pygments_lexer": "ipython3",
   "version": "3.8.3"
  }
 },
 "nbformat": 4,
 "nbformat_minor": 4
}
