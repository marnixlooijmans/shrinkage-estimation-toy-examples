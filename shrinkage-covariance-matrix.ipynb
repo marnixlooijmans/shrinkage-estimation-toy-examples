{
 "cells": [
  {
   "cell_type": "code",
   "execution_count": 12,
   "metadata": {},
   "outputs": [],
   "source": [
    "import numpy as np\n",
    "import matplotlib.pyplot as plt\n",
    "%matplotlib inline"
   ]
  },
  {
   "cell_type": "code",
   "execution_count": 13,
   "metadata": {},
   "outputs": [],
   "source": [
    "# parameters\n",
    "p = 18 # nr of random variables\n",
    "n = 1000 # nr of realizations\n",
    "mean = 0\n",
    "sigma = 1.1"
   ]
  },
  {
   "cell_type": "markdown",
   "metadata": {},
   "source": [
    "Covariance matrix is given by $ \\textbf{C} = \\hat{\\lambda}^* \\textbf{T} + (1-\\hat{\\lambda}^*)\\textbf{S} $, where $\\hat{\\lambda}^*$ is the estimated optimal shrinkage intensity, $\\textbf{T}$ is the target matrix which we take to be the identity, and $\\textbf{S}$ is the empirically estimated covariance matrix.\n",
    "\n",
    "We run a 100 simulations to find the shrinkage intensity."
   ]
  },
  {
   "cell_type": "code",
   "execution_count": 18,
   "metadata": {},
   "outputs": [],
   "source": [
    "T = np.identity(p) # Target matrix\n",
    "C_true = sigma**2 * np.identity(p) # True covariance"
   ]
  },
  {
   "cell_type": "code",
   "execution_count": 23,
   "metadata": {},
   "outputs": [
    {
     "name": "stdout",
     "output_type": "stream",
     "text": [
      "Optimal value for shrinkage intensity: 0.3865124672942543\n",
      "Standard deviation: 0.02596147517275789\n",
      "MSE for MC: 0.5048506253068621\n",
      "MSE for MC+S: 0.3094746950131999\n"
     ]
    }
   ],
   "source": [
    "lmbdas_est = []\n",
    "MSE_MC_sum = 0\n",
    "MSE_MCS_sum = 0\n",
    "\n",
    "m = 100 # nr of realizations\n",
    "for _ in range(m):\n",
    "    X = np.random.normal(mean, sigma, size=(p, n))\n",
    "    \n",
    "    x_mean = np.sum(X, axis=1)/n # Find mean of each row\n",
    "    x_mean_M = np.tile(x_mean, (n, 1)).T # Repeat mean values as columns in a p x n matrix\n",
    "    Y = X - x_mean_M\n",
    "    \n",
    "    W = []\n",
    "    # Generate W array (which is 3D) of size (n, p, p), order of indices (k, i, j)\n",
    "    for k in range(n):\n",
    "        w = Y[:,k]\n",
    "        W.append(np.outer(w, w))\n",
    "    W_mean = np.sum(W, axis=0)/n\n",
    "    \n",
    "    # Emperically estimated covariance matrix\n",
    "    S = n / (n-1) * W_mean\n",
    "    \n",
    "    W_mean_rep = np.tile(W_mean, (n, 1, 1))\n",
    "    V = W - W_mean_rep\n",
    "    # Compute variance of elements of the covariance matrix\n",
    "    Var = n / (n-1)**3 * np.sum(V**2, axis=0)\n",
    "    \n",
    "    lmbda_est = np.sum(Var) / np.sum((T-S)**2)\n",
    "    lmbdas_est.append(lmbda_est)\n",
    "    \n",
    "    # Compute shrinkage covariance matrix\n",
    "    C_shrinkage = lmbda_est*T + (1-lmbda_est)*S\n",
    "    \n",
    "    MSE_MC = np.trace((S-C_true)@(S-C_true).T)\n",
    "    MSE_MCS = np.trace((C_shrinkage-C_true)@(C_shrinkage-C_true).T)\n",
    "    MSE_MC_sum += MSE_MC\n",
    "    MSE_MCS_sum += MSE_MCS\n",
    "\n",
    "MSE_MC = MSE_MC_sum / m\n",
    "MSE_MCS = MSE_MCS_sum / m\n",
    "\n",
    "lmbda_est = np.average(lmbdas_est)\n",
    "print(f\"Optimal value for shrinkage intensity: {lmbda_est}\")\n",
    "lmbda_est_se = np.std(lmbdas_est) #/ np.sqrt(len(lmbdas_est))\n",
    "print(f\"Standard deviation: {lmbda_est_se}\")\n",
    "\n",
    "print(f\"MSE for MC: {MSE_MC}\")\n",
    "print(f\"MSE for MC+S: {MSE_MCS}\")"
   ]
  },
  {
   "cell_type": "code",
   "execution_count": null,
   "metadata": {},
   "outputs": [],
   "source": []
  }
 ],
 "metadata": {
  "kernelspec": {
   "display_name": "Python 3",
   "language": "python",
   "name": "python3"
  },
  "language_info": {
   "codemirror_mode": {
    "name": "ipython",
    "version": 3
   },
   "file_extension": ".py",
   "mimetype": "text/x-python",
   "name": "python",
   "nbconvert_exporter": "python",
   "pygments_lexer": "ipython3",
   "version": "3.8.3"
  }
 },
 "nbformat": 4,
 "nbformat_minor": 4
}
